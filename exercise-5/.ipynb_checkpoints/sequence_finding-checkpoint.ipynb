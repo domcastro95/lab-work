{
 "cells": [
  {
   "cell_type": "markdown",
   "metadata": {
    "collapsed": true
   },
   "source": [
    "Pesudocode start"
   ]
  },
  {
   "cell_type": "code",
   "execution_count": null,
   "metadata": {
    "collapsed": true
   },
   "outputs": [],
   "source": [
    "import the data file Marra2014_data.fasta:\n",
    "    from CSB/unix/data/\n",
    "    as a .csv file\n",
    "    in lab-work/exercise-5/lab-homework-2-8.ipynb\n",
    "    \n",
    "in this .csv file:\n",
    "    the first column is a CSV output of the uniq contig\n",
    "    while the second column is the number of times the seq `AATG` appears in the contig\n",
    "    \n"
   ]
  }
 ],
 "metadata": {
  "anaconda-cloud": {},
  "kernelspec": {
   "display_name": "Python [conda root]",
   "language": "python",
   "name": "conda-root-py"
  },
  "language_info": {
   "codemirror_mode": {
    "name": "ipython",
    "version": 3
   },
   "file_extension": ".py",
   "mimetype": "text/x-python",
   "name": "python",
   "nbconvert_exporter": "python",
   "pygments_lexer": "ipython3",
   "version": "3.5.2"
  }
 },
 "nbformat": 4,
 "nbformat_minor": 2
}
