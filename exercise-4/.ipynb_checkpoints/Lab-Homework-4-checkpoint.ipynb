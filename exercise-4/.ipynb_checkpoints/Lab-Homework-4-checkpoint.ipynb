{
 "cells": [
  {
   "cell_type": "markdown",
   "metadata": {},
   "source": [
    "\n",
    "\n",
    "## Homework\n",
    "\n",
    "1. Write a for-loop that prints out the numbers from 100 to 110.\n",
    "\n",
    "2. Write a while- loop that prints out the numbers from 100 to 110.  \n",
    "\n",
    "3. Write a loop that prints out the squares of the numbers from 10-15. This can be a for or a while loop.\n",
    "\n",
    "4. Write a loop that iterates over the list [\"Scooby\", \"Shaggy\", \"Velma\", \"Daphne\", \"Fred\"] and for each character prints the statement \"XXX is a character in that most glorious of cartoons, Scooby Doo\". \n",
    "\n",
    "5. Write a function that meets the following criteria:\n",
    "\n",
    "<pre>\n",
    "1. The function must be named \"fact_or_sum\"   \n",
    "2. The function must take in one input, which must be an integer. If the user inputs a string, the function should return an error message.\n",
    "3. If the input integer is 0, the function returns the number 0.  \n",
    "4. If the input integer is an odd number, the function returns the factorial of the number. \n",
    "4a. A factorial is computed as the product of a number and each integer below that number, until 1 (e.g. n*(n-1)*(n-2)...*1)\n",
    "5. The factorial MUST be computed with a for loop. \n",
    "6. If the input integer is an even number, the function returns the sum of that number and all numbers below it, until 1 (e.g. n+(n-1)+(n-2)...+1).\n",
    "6a. The sum must be computed with a while loop.\n",
    "</pre>"
   ]
  },
  {
   "cell_type": "code",
   "execution_count": 4,
   "metadata": {
    "collapsed": false
   },
   "outputs": [
    {
     "name": "stdout",
     "output_type": "stream",
     "text": [
      "100\n",
      "101\n",
      "102\n",
      "103\n",
      "104\n",
      "105\n",
      "106\n",
      "107\n",
      "108\n",
      "109\n",
      "110\n"
     ]
    }
   ],
   "source": [
    "fact_or_sum = range(100,111)\n",
    "\n",
    "for number_count in fact_or_sum:\n",
    "    print(str(number_count))"
   ]
  },
  {
   "cell_type": "code",
   "execution_count": 7,
   "metadata": {
    "collapsed": false,
    "scrolled": true
   },
   "outputs": [
    {
     "name": "stdout",
     "output_type": "stream",
     "text": [
      "100\n",
      "101\n",
      "102\n",
      "103\n",
      "104\n",
      "105\n",
      "106\n",
      "107\n",
      "108\n",
      "109\n",
      "110\n"
     ]
    }
   ],
   "source": [
    "fact_or_sum = 100\n",
    "\n",
    "while fact_or_sum < 111:\n",
    "    print(fact_or_sum)\n",
    "    fact_or_sum = fact_or_sum + 1\n"
   ]
  },
  {
   "cell_type": "code",
   "execution_count": 5,
   "metadata": {
    "collapsed": false
   },
   "outputs": [
    {
     "name": "stdout",
     "output_type": "stream",
     "text": [
      "100\n",
      "121\n",
      "144\n",
      "169\n",
      "196\n",
      "225\n"
     ]
    }
   ],
   "source": [
    "# 3. Write a loop that prints out the squares of the numbers from 10-15. \n",
    "# This can be a for or a while loop.\n",
    "\n",
    "number_count = 10\n",
    "\n",
    "while number_count < 16:\n",
    "    square = ((number_count)**2)\n",
    "    print(square)\n",
    "    number_count = number_count + 1"
   ]
  },
  {
   "cell_type": "code",
   "execution_count": 9,
   "metadata": {
    "collapsed": false
   },
   "outputs": [
    {
     "name": "stdout",
     "output_type": "stream",
     "text": [
      "Scooby is a character in that most glorius of cartoons, Scooby Doo\n",
      "\n",
      "\n",
      "Shaggy is a character in that most glorius of cartoons, Scooby Doo\n",
      "\n",
      "\n",
      "Velma is a character in that most glorius of cartoons, Scooby Doo\n",
      "\n",
      "\n",
      "Daphne is a character in that most glorius of cartoons, Scooby Doo\n",
      "\n",
      "\n",
      "Fred is a character in that most glorius of cartoons, Scooby Doo\n",
      "\n",
      "\n"
     ]
    }
   ],
   "source": [
    "# 4. Write a loop that iterates over the list [\"Scooby\", \"Shaggy\", \"Velma\", \"Daphne\", \"Fred\"] \n",
    "# and for each character prints the statement \"XXX is a character in that most \n",
    "# glorious of cartoons, Scooby Doo\". \n",
    "\n",
    "for detective in [\"Scooby\", \"Shaggy\", \"Velma\", \"Daphne\", \"Fred\"]:\n",
    "    print(detective + \" is a character in that most glorius of cartoons, Scooby Doo\")\n",
    "    print (\"\\n\")"
   ]
  },
  {
   "cell_type": "markdown",
   "metadata": {
    "collapsed": true
   },
   "source": [
    "5. Write a function that meets the following criteria:\n",
    "\n",
    "<pre>\n",
    "1. The function must be named \"fact_or_sum\"   \n",
    "2. The function must take in one input, which must be an integer. If the user inputs a string, the function should return an error message.\n",
    "3. If the input integer is 0, the function returns the number 0.  \n",
    "4. If the input integer is an odd number, the function returns the factorial of the number. \n",
    "4a. A factorial is computed as the product of a number and each integer below that number, until 1 (e.g. n*(n-1)*(n-2)...*1)\n",
    "5. The factorial MUST be computed with a for loop. \n",
    "6. If the input integer is an even number, the function returns the sum of that number and all numbers below it, until 1 (e.g. n+(n-1)+(n-2)...+1).\n",
    "6a. The sum must be computed with a while loop.\n",
    "</pre>"
   ]
  },
  {
   "cell_type": "code",
   "execution_count": 38,
   "metadata": {
    "collapsed": false
   },
   "outputs": [
    {
     "name": "stdout",
     "output_type": "stream",
     "text": [
      "10\n"
     ]
    }
   ],
   "source": [
    "infunction(fact_or_sum)"
   ]
  },
  {
   "cell_type": "code",
   "execution_count": 61,
   "metadata": {
    "collapsed": false
   },
   "outputs": [],
   "source": [
    "def fact_or_sum():\n",
    "    '''\n",
    "    Continually prompt the user for a number ,1,2, or 3 until the user provides a good input.\n",
    "    You will need a type conversion. :return: The users chosen number as an integer \n",
    "    '''\n",
    "    \n",
    "    while True:\n",
    "        try:\n",
    "            guess = int(raw_input(\"give me 1,2,3\"))\n",
    "            if guess in (1,2,3):\n",
    "                return guess\n",
    "        except ValueError:\n",
    "            pass\n",
    "        print(\"Invalid input!\")"
   ]
  },
  {
   "cell_type": "code",
   "execution_count": 62,
   "metadata": {
    "collapsed": false
   },
   "outputs": [
    {
     "ename": "TypeError",
     "evalue": "fact_or_sum() takes 0 positional arguments but 1 was given",
     "output_type": "error",
     "traceback": [
      "\u001b[0;31m---------------------------------------------------------------------------\u001b[0m",
      "\u001b[0;31mTypeError\u001b[0m                                 Traceback (most recent call last)",
      "\u001b[0;32m<ipython-input-62-00e8dd2d652d>\u001b[0m in \u001b[0;36m<module>\u001b[0;34m()\u001b[0m\n\u001b[0;32m----> 1\u001b[0;31m \u001b[0mfact_or_sum\u001b[0m\u001b[0;34m(\u001b[0m\u001b[0;36m1\u001b[0m\u001b[0;34m)\u001b[0m\u001b[0;34m\u001b[0m\u001b[0m\n\u001b[0m",
      "\u001b[0;31mTypeError\u001b[0m: fact_or_sum() takes 0 positional arguments but 1 was given"
     ]
    }
   ],
   "source": [
    "fact_or_sum(1)"
   ]
  },
  {
   "cell_type": "code",
   "execution_count": 63,
   "metadata": {
    "collapsed": false
   },
   "outputs": [
    {
     "ename": "TypeError",
     "evalue": "fact_or_sum() takes 0 positional arguments but 1 was given",
     "output_type": "error",
     "traceback": [
      "\u001b[0;31m---------------------------------------------------------------------------\u001b[0m",
      "\u001b[0;31mTypeError\u001b[0m                                 Traceback (most recent call last)",
      "\u001b[0;32m<ipython-input-63-fe8df8fb7a86>\u001b[0m in \u001b[0;36m<module>\u001b[0;34m()\u001b[0m\n\u001b[0;32m----> 1\u001b[0;31m \u001b[0mfact_or_sum\u001b[0m\u001b[0;34m(\u001b[0m\u001b[0;34m\"1\"\u001b[0m\u001b[0;34m)\u001b[0m\u001b[0;34m\u001b[0m\u001b[0m\n\u001b[0m",
      "\u001b[0;31mTypeError\u001b[0m: fact_or_sum() takes 0 positional arguments but 1 was given"
     ]
    }
   ],
   "source": [
    "fact_or_sum(\"1\")"
   ]
  },
  {
   "cell_type": "code",
   "execution_count": 64,
   "metadata": {
    "collapsed": false
   },
   "outputs": [
    {
     "data": {
      "text/plain": [
       "0"
      ]
     },
     "execution_count": 64,
     "metadata": {},
     "output_type": "execute_result"
    }
   ],
   "source": [
    "int(0)"
   ]
  },
  {
   "cell_type": "code",
   "execution_count": 65,
   "metadata": {
    "collapsed": false
   },
   "outputs": [
    {
     "ename": "TypeError",
     "evalue": "fact_or_sum() takes 0 positional arguments but 1 was given",
     "output_type": "error",
     "traceback": [
      "\u001b[0;31m---------------------------------------------------------------------------\u001b[0m",
      "\u001b[0;31mTypeError\u001b[0m                                 Traceback (most recent call last)",
      "\u001b[0;32m<ipython-input-65-4c1b99b35889>\u001b[0m in \u001b[0;36m<module>\u001b[0;34m()\u001b[0m\n\u001b[0;32m----> 1\u001b[0;31m \u001b[0mfact_or_sum\u001b[0m\u001b[0;34m(\u001b[0m\u001b[0;36m0\u001b[0m\u001b[0;34m)\u001b[0m\u001b[0;34m\u001b[0m\u001b[0m\n\u001b[0m",
      "\u001b[0;31mTypeError\u001b[0m: fact_or_sum() takes 0 positional arguments but 1 was given"
     ]
    }
   ],
   "source": [
    "fact_or_sum(0)"
   ]
  },
  {
   "cell_type": "code",
   "execution_count": 66,
   "metadata": {
    "collapsed": false
   },
   "outputs": [
    {
     "ename": "TypeError",
     "evalue": "fact_or_sum() takes 0 positional arguments but 1 was given",
     "output_type": "error",
     "traceback": [
      "\u001b[0;31m---------------------------------------------------------------------------\u001b[0m",
      "\u001b[0;31mTypeError\u001b[0m                                 Traceback (most recent call last)",
      "\u001b[0;32m<ipython-input-66-00e8dd2d652d>\u001b[0m in \u001b[0;36m<module>\u001b[0;34m()\u001b[0m\n\u001b[0;32m----> 1\u001b[0;31m \u001b[0mfact_or_sum\u001b[0m\u001b[0;34m(\u001b[0m\u001b[0;36m1\u001b[0m\u001b[0;34m)\u001b[0m\u001b[0;34m\u001b[0m\u001b[0m\n\u001b[0m",
      "\u001b[0;31mTypeError\u001b[0m: fact_or_sum() takes 0 positional arguments but 1 was given"
     ]
    }
   ],
   "source": [
    "fact_or_sum(1)"
   ]
  },
  {
   "cell_type": "code",
   "execution_count": 67,
   "metadata": {
    "collapsed": true
   },
   "outputs": [],
   "source": [
    "n = 3"
   ]
  },
  {
   "cell_type": "code",
   "execution_count": 76,
   "metadata": {
    "collapsed": false
   },
   "outputs": [
    {
     "data": {
      "text/plain": [
       "0"
      ]
     },
     "execution_count": 76,
     "metadata": {},
     "output_type": "execute_result"
    }
   ],
   "source": [
    "n*(n-1)*(n-2)"
   ]
  },
  {
   "cell_type": "markdown",
   "metadata": {},
   "source": [
    "        4. If the input integer is an odd number, the function returns the factorial of the number. \n",
    "        4a. A factorial is computed as the product of a number and each integer below that number, until 1 (e.g. n*(n-1)*(n-2)...*1)\n",
    "        5. The factorial MUST be computed with a for loop. \n",
    "        6. If the input integer is an even number, the function returns the sum of that number and all numbers below it, until 1 (e.g. n+(n-1)+(n-2)...+1).\n",
    "6a. The sum must be computed with a while loop."
   ]
  },
  {
   "cell_type": "code",
   "execution_count": 83,
   "metadata": {
    "collapsed": false
   },
   "outputs": [
    {
     "ename": "SyntaxError",
     "evalue": "invalid syntax (<ipython-input-83-71575ecff91e>, line 6)",
     "output_type": "error",
     "traceback": [
      "\u001b[0;36m  File \u001b[0;32m\"<ipython-input-83-71575ecff91e>\"\u001b[0;36m, line \u001b[0;32m6\u001b[0m\n\u001b[0;31m    print(square)\u001b[0m\n\u001b[0m        ^\u001b[0m\n\u001b[0;31mSyntaxError\u001b[0m\u001b[0;31m:\u001b[0m invalid syntax\n"
     ]
    }
   ],
   "source": [
    "\n",
    "number_count = 1\n",
    "\n",
    "while number_count < 9:\n",
    "    square = ((number_count)*((number_count)-1)*((number_count)-(number_count+1)*1)\n",
    "    print(square)\n",
    "    number_count = number_count + 1"
   ]
  },
  {
   "cell_type": "code",
   "execution_count": 84,
   "metadata": {
    "collapsed": false
   },
   "outputs": [
    {
     "ename": "SyntaxError",
     "evalue": "invalid syntax (<ipython-input-84-ae8f337f57d6>, line 5)",
     "output_type": "error",
     "traceback": [
      "\u001b[0;36m  File \u001b[0;32m\"<ipython-input-84-ae8f337f57d6>\"\u001b[0;36m, line \u001b[0;32m5\u001b[0m\n\u001b[0;31m    print(square)\u001b[0m\n\u001b[0m        ^\u001b[0m\n\u001b[0;31mSyntaxError\u001b[0m\u001b[0;31m:\u001b[0m invalid syntax\n"
     ]
    }
   ],
   "source": [
    "number_count = 2\n",
    "\n",
    "while number_count < 10:\n",
    "    square = ((number_count)*((number_count)-1)*((number_count)-(number_count+1)*1)\n",
    "    print(square)\n",
    "    number_count = number_count + 1"
   ]
  },
  {
   "cell_type": "code",
   "execution_count": null,
   "metadata": {
    "collapsed": true
   },
   "outputs": [],
   "source": []
  }
 ],
 "metadata": {
  "anaconda-cloud": {},
  "kernelspec": {
   "display_name": "Python [conda root]",
   "language": "python",
   "name": "conda-root-py"
  },
  "language_info": {
   "codemirror_mode": {
    "name": "ipython",
    "version": 3
   },
   "file_extension": ".py",
   "mimetype": "text/x-python",
   "name": "python",
   "nbconvert_exporter": "python",
   "pygments_lexer": "ipython3",
   "version": "3.5.2"
  }
 },
 "nbformat": 4,
 "nbformat_minor": 2
}
