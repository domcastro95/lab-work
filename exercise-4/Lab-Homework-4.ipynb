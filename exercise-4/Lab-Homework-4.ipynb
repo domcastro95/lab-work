{
 "cells": [
  {
   "cell_type": "markdown",
   "metadata": {},
   "source": [
    "\n",
    "\n",
    "## Homework\n",
    "\n",
    "1. Write a for-loop that prints out the numbers from 100 to 110.\n",
    "\n",
    "2. Write a while- loop that prints out the numbers from 100 to 110.  \n",
    "\n",
    "3. Write a loop that prints out the squares of the numbers from 10-15. This can be a for or a while loop.\n",
    "\n",
    "4. Write a loop that iterates over the list [\"Scooby\", \"Shaggy\", \"Velma\", \"Daphne\", \"Fred\"] and for each character prints the statement \"XXX is a character in that most glorious of cartoons, Scooby Doo\". \n",
    "\n",
    "5. Write a function that meets the following criteria:\n",
    "\n",
    "<pre>\n",
    "1. The function must be named \"fact_or_sum\"   \n",
    "2. The function must take in one input, which must be an integer. If the user inputs a string, the function should return an error message.\n",
    "3. If the input integer is 0, the function returns the number 0.  \n",
    "4. If the input integer is an odd number, the function returns the factorial of the number. \n",
    "4a. A factorial is computed as the product of a number and each integer below that number, until 1 (e.g. n*(n-1)*(n-2)...*1)\n",
    "5. The factorial MUST be computed with a for loop. \n",
    "6. If the input integer is an even number, the function returns the sum of that number and all numbers below it, until 1 (e.g. n+(n-1)+(n-2)...+1).\n",
    "6a. The sum must be computed with a while loop.\n",
    "</pre>"
   ]
  },
  {
   "cell_type": "code",
   "execution_count": 4,
   "metadata": {
    "collapsed": false
   },
   "outputs": [
    {
     "name": "stdout",
     "output_type": "stream",
     "text": [
      "100\n",
      "101\n",
      "102\n",
      "103\n",
      "104\n",
      "105\n",
      "106\n",
      "107\n",
      "108\n",
      "109\n",
      "110\n"
     ]
    }
   ],
   "source": [
    "fact_or_sum = range(100,111)\n",
    "\n",
    "for number_count in fact_or_sum:\n",
    "    print(str(number_count))"
   ]
  },
  {
   "cell_type": "code",
   "execution_count": 7,
   "metadata": {
    "collapsed": false,
    "scrolled": true
   },
   "outputs": [
    {
     "name": "stdout",
     "output_type": "stream",
     "text": [
      "100\n",
      "101\n",
      "102\n",
      "103\n",
      "104\n",
      "105\n",
      "106\n",
      "107\n",
      "108\n",
      "109\n",
      "110\n"
     ]
    }
   ],
   "source": [
    "fact_or_sum = 100\n",
    "\n",
    "while fact_or_sum < 111:\n",
    "    print(fact_or_sum)\n",
    "    fact_or_sum = fact_or_sum + 1\n"
   ]
  },
  {
   "cell_type": "code",
   "execution_count": 5,
   "metadata": {
    "collapsed": false
   },
   "outputs": [
    {
     "name": "stdout",
     "output_type": "stream",
     "text": [
      "100\n",
      "121\n",
      "144\n",
      "169\n",
      "196\n",
      "225\n"
     ]
    }
   ],
   "source": [
    "# 3. Write a loop that prints out the squares of the numbers from 10-15. \n",
    "# This can be a for or a while loop.\n",
    "\n",
    "number_count = 10\n",
    "\n",
    "while number_count < 16:\n",
    "    square = ((number_count)**2)\n",
    "    print(square)\n",
    "    number_count = number_count + 1"
   ]
  },
  {
   "cell_type": "code",
   "execution_count": 9,
   "metadata": {
    "collapsed": false
   },
   "outputs": [
    {
     "name": "stdout",
     "output_type": "stream",
     "text": [
      "Scooby is a character in that most glorius of cartoons, Scooby Doo\n",
      "\n",
      "\n",
      "Shaggy is a character in that most glorius of cartoons, Scooby Doo\n",
      "\n",
      "\n",
      "Velma is a character in that most glorius of cartoons, Scooby Doo\n",
      "\n",
      "\n",
      "Daphne is a character in that most glorius of cartoons, Scooby Doo\n",
      "\n",
      "\n",
      "Fred is a character in that most glorius of cartoons, Scooby Doo\n",
      "\n",
      "\n"
     ]
    }
   ],
   "source": [
    "# 4. Write a loop that iterates over the list [\"Scooby\", \"Shaggy\", \"Velma\", \"Daphne\", \"Fred\"] \n",
    "# and for each character prints the statement \"XXX is a character in that most \n",
    "# glorious of cartoons, Scooby Doo\". \n",
    "\n",
    "for detective in [\"Scooby\", \"Shaggy\", \"Velma\", \"Daphne\", \"Fred\"]:\n",
    "    print(detective + \" is a character in that most glorius of cartoons, Scooby Doo\")\n",
    "    print (\"\\n\")"
   ]
  },
  {
   "cell_type": "code",
   "execution_count": null,
   "metadata": {
    "collapsed": true
   },
   "outputs": [],
   "source": []
  }
 ],
 "metadata": {
  "anaconda-cloud": {},
  "kernelspec": {
   "display_name": "Python [conda root]",
   "language": "python",
   "name": "conda-root-py"
  },
  "language_info": {
   "codemirror_mode": {
    "name": "ipython",
    "version": 3
   },
   "file_extension": ".py",
   "mimetype": "text/x-python",
   "name": "python",
   "nbconvert_exporter": "python",
   "pygments_lexer": "ipython3",
   "version": "3.5.2"
  }
 },
 "nbformat": 4,
 "nbformat_minor": 2
}
