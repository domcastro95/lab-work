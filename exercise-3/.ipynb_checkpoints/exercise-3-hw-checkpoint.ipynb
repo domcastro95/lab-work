{
 "cells": [
  {
   "cell_type": "markdown",
   "metadata": {},
   "source": [
    "## Homework\n",
    "\n",
    "This homework should be submitted as an ipython notebook file committed in your github repo by next Wednesday, 1 Feb.\n",
    "\n",
    "\\1. Create a new ipython notebook in your `exercise-3` folder within `lab-work`. Call this file \"Exercise-3-hw\". \n",
    "\\2. Define the following variables in your new ipython notebook:\n",
    "\n",
    "```\n",
    "set \"a\" equal to 3\n",
    "set \"b\" equal to 17\n",
    "set \"c\" equal to the sum of a and b\n",
    "\n",
    "set \"favorite_animal\" to one of your favorite animals\n",
    "\n",
    "set \"favorite_dinners\" to a list of three of your favorite dinners\n",
    "\n",
    "set \"num_fav_dinners\" to the number of items in your \"favorite_dinners\" list. NOTE: You must use the len() function to achieve this task.\n",
    "```\n",
    "\n",
    "\\3. Write a function named \"hw3_function\". This function must meet the following criteria: \n",
    "\n",
    "```\n",
    "The function should take an integer as an input. If the user runs the function with something that is not an integer, your function should print an error message.\n",
    "\n",
    "If the integer is less than 5, return the message \"Brr! It's cold!\"\n",
    "If the integer is greater than 25, return the message \"It's pretty warm!\"\n",
    "If the integer is between 5 and 25, return the message \"What a pleasant temperature!\"\n",
    "\n",
    "For example, hw3_function(\"duck\") should return an error\n",
    "For example, hw3_function(17) should return \"What a pleasant temperature!\"\n",
    "```\n",
    "\n",
    "\\4. Consider the DNA string \"ATAATTAACGGAGCTTATTA\". Write a python regular expression that will search for the patter \"G, A or T, A or T, G, A or T or G or C\".\n",
    "\n",
    "\\5. Write a function that plays \"Rock Paper Scissors\" with the user. Your functions should meet the following criteria:\n",
    "\n",
    "```\n",
    "The function shold be named \"rps\"\n",
    "\n",
    "The user must input the words \"rock\" or \"paper\" or \"scissors\" into the function. If the user enters anything else, the function should print a statement asking the user to run it again properly.\n",
    "\n",
    "The function should randomly select one of \"rock, paper, scissors\" each time it is run. Hint: you wil have to use the \"choice\" function in the \"random\" library to select from a list each time. Feel free to google for advice on this.\n",
    "\n",
    "The function should follow the standard rules of rock paper scissors (\"rock beats scissors; scissors beats paper; paper beats rock; tie of both the same\") to determine a winner.\n",
    "\n",
    "The function should return a string of the following format: \"You picked <user_choice>; Computer picked <random_choice>; +1 for <You or Computer>!\"\n",
    "\n",
    "For example, rps(\"rock\") can return either one of the three sentences, depending on which is sampled randomly:\n",
    "\"You picked rock; Computer picked rock; this is a tie!\"\n",
    "\"You picked rock; Computer picked paper; +1 for Computer!\"\n",
    "\"You picked rock; Computer picked scissors; +1 for You!\"\n",
    "```\n",
    "\n"
   ]
  },
  {
   "cell_type": "markdown",
   "metadata": {},
   "source": [
    "Question 2"
   ]
  },
  {
   "cell_type": "code",
   "execution_count": 89,
   "metadata": {
    "collapsed": true
   },
   "outputs": [],
   "source": [
    "a = 3"
   ]
  },
  {
   "cell_type": "code",
   "execution_count": 3,
   "metadata": {
    "collapsed": false
   },
   "outputs": [],
   "source": [
    "b=17 "
   ]
  },
  {
   "cell_type": "code",
   "execution_count": 38,
   "metadata": {
    "collapsed": true
   },
   "outputs": [],
   "source": [
    "c = a + b"
   ]
  },
  {
   "cell_type": "code",
   "execution_count": 29,
   "metadata": {
    "collapsed": false
   },
   "outputs": [],
   "source": [
    "favorite_animal = \"owl\""
   ]
  },
  {
   "cell_type": "code",
   "execution_count": 28,
   "metadata": {
    "collapsed": false
   },
   "outputs": [
    {
     "data": {
      "text/plain": [
       "list"
      ]
     },
     "execution_count": 28,
     "metadata": {},
     "output_type": "execute_result"
    }
   ],
   "source": [
    "favorite_dinners = [\"tacos\", \"halal_chicken\", \"KBBQ\"]\n",
    "type(favorite_dinners)"
   ]
  },
  {
   "cell_type": "code",
   "execution_count": 36,
   "metadata": {
    "collapsed": false
   },
   "outputs": [
    {
     "data": {
      "text/plain": [
       "3"
      ]
     },
     "execution_count": 36,
     "metadata": {},
     "output_type": "execute_result"
    }
   ],
   "source": [
    "len(favorite_dinners)"
   ]
  },
  {
   "cell_type": "code",
   "execution_count": 40,
   "metadata": {
    "collapsed": false
   },
   "outputs": [
    {
     "data": {
      "text/plain": [
       "20"
      ]
     },
     "execution_count": 40,
     "metadata": {},
     "output_type": "execute_result"
    }
   ],
   "source": [
    "a + b "
   ]
  },
  {
   "cell_type": "code",
   "execution_count": 46,
   "metadata": {
    "collapsed": true
   },
   "outputs": [],
   "source": [
    "def sq_times_three(number):\n",
    "    return((number**2)*3)"
   ]
  },
  {
   "cell_type": "code",
   "execution_count": 47,
   "metadata": {
    "collapsed": false
   },
   "outputs": [
    {
     "data": {
      "text/plain": [
       "12"
      ]
     },
     "execution_count": 47,
     "metadata": {},
     "output_type": "execute_result"
    }
   ],
   "source": [
    "sq_times_three(2)"
   ]
  },
  {
   "cell_type": "code",
   "execution_count": 48,
   "metadata": {
    "collapsed": false
   },
   "outputs": [
    {
     "data": {
      "text/plain": [
       "27"
      ]
     },
     "execution_count": 48,
     "metadata": {},
     "output_type": "execute_result"
    }
   ],
   "source": [
    "sq_times_three(3)"
   ]
  },
  {
   "cell_type": "markdown",
   "metadata": {},
   "source": [
    "Question 3"
   ]
  },
  {
   "cell_type": "code",
   "execution_count": 51,
   "metadata": {
    "collapsed": false
   },
   "outputs": [],
   "source": [
    "def hw3_function(number):\n",
    "    if (number)<5:\n",
    "        print(\"Brr! It's cold!\")\n",
    "    if (number)>25:\n",
    "        print(\"It's pretty warm!\")\n",
    "    if 5<(number)<25:\n",
    "        print(\"What a pleasent temperature!\")\n",
    "    "
   ]
  },
  {
   "cell_type": "code",
   "execution_count": 52,
   "metadata": {
    "collapsed": false
   },
   "outputs": [
    {
     "name": "stdout",
     "output_type": "stream",
     "text": [
      "Brr! It's cold!\n"
     ]
    }
   ],
   "source": [
    "hw3_function(0)"
   ]
  },
  {
   "cell_type": "code",
   "execution_count": 54,
   "metadata": {
    "collapsed": false
   },
   "outputs": [
    {
     "name": "stdout",
     "output_type": "stream",
     "text": [
      "What a pleasent temperature!\n"
     ]
    }
   ],
   "source": [
    "hw3_function(5.1)"
   ]
  },
  {
   "cell_type": "code",
   "execution_count": 65,
   "metadata": {
    "collapsed": false
   },
   "outputs": [
    {
     "name": "stdout",
     "output_type": "stream",
     "text": [
      "It's pretty warm!\n"
     ]
    }
   ],
   "source": [
    "hw3_function(100)"
   ]
  },
  {
   "cell_type": "markdown",
   "metadata": {},
   "source": [
    "Question 4"
   ]
  },
  {
   "cell_type": "code",
   "execution_count": 66,
   "metadata": {
    "collapsed": false
   },
   "outputs": [],
   "source": [
    "import re"
   ]
  },
  {
   "cell_type": "code",
   "execution_count": 87,
   "metadata": {
    "collapsed": false
   },
   "outputs": [],
   "source": [
    "dna = \"ATAATTAACGGAGCTTATTA\"\n",
    "if re.search(r\"G(A|T)A\", dna) or re.search(r\"TG(A|T|G|C)\", dna):\n",
    "    print(\"here it is!\")"
   ]
  },
  {
   "cell_type": "code",
   "execution_count": 88,
   "metadata": {
    "collapsed": true
   },
   "outputs": [],
   "source": [
    "dna = \"ATAATTAACGGAGCTTATTA\"\n",
    "if re.search(r\"G(A|T)(A|T)G(A|T|G|C)\", dna):\n",
    "    print(\"here it is!\")"
   ]
  },
  {
   "cell_type": "markdown",
   "metadata": {},
   "source": [
    "Question 5: RPS"
   ]
  },
  {
   "cell_type": "code",
   "execution_count": 97,
   "metadata": {
    "collapsed": true
   },
   "outputs": [],
   "source": [
    "import random;"
   ]
  },
  {
   "cell_type": "code",
   "execution_count": 116,
   "metadata": {
    "collapsed": false
   },
   "outputs": [],
   "source": [
    "from random import randint"
   ]
  },
  {
   "cell_type": "code",
   "execution_count": null,
   "metadata": {
    "collapsed": true
   },
   "outputs": [],
   "source": []
  },
  {
   "cell_type": "code",
   "execution_count": null,
   "metadata": {
    "collapsed": true
   },
   "outputs": [],
   "source": [
    "from random import randint\n",
    "\n",
    "t = [\"rock\",\"paper\",\"scissors\"]\n",
    "\n",
    "computer = t[randint(0,2)]\n",
    "player = \"Dom\"\n",
    "\n",
    "while player == \"Dom\":\n",
    "    player = input(\"rock,paper,scissors\")\n",
    "    if player == computer:\n",
    "        print (\"This is a tie!\")\n",
    "    elif player == \"rock\":\n",
    "        if computer == \"paper\":\n",
    "            print(\"you picked rock\", \"computer picked paper\", \"+1 for Computer!\")\n",
    "        else:\n",
    "            print (\"you picked paper\", \"computer picked rock\", \"+1 for You!\")\n",
    "    elif player == \"paper\":\n",
    "        if computer == \"scissors\":\n",
    "            print(\"you picked paper\", \"computer picked scissors\", \"+1 for Computer!\")\n",
    "        else:\n",
    "            print (\"you picked scissors\", \"computer picked paper\", \"+1 for You!\")\n",
    "    elif player == \"scissors\":\n",
    "        if computer == \"Rock\":\n",
    "            print(\"you picked scissors\", \"computer picked rock\", \"+1 for Computer!\")\n",
    "        else:\n",
    "            print (\"you picked rock\", \"computer picked scissors\", \"+1 for You!\")\n",
    "    else:\n",
    "        print (\"please check your spelling\")\n",
    "    \n",
    "    player = \"Dom\"\n",
    "    computer = t[radint(0,2)]\n",
    "            "
   ]
  },
  {
   "cell_type": "code",
   "execution_count": null,
   "metadata": {
    "collapsed": true
   },
   "outputs": [],
   "source": [
    "from random import randint\n",
    "\n",
    "t = [\"rock\",\"paper\",\"scissors\"]\n",
    "\n",
    "computer = t[randint(0,2)]\n",
    "player = \"Dom\"\n",
    "\n",
    "while player == \"Dom\":\n",
    "    player = input(\"rock,paper,scissors\")\n",
    "    if player == computer:\n",
    "        print (\"This is a tie!\")\n",
    "    elif player == \"rock\":\n",
    "        if computer == \"paper\":\n",
    "            print(\"you picked rock\", \"computer picked paper\", \"+1 for Computer!\")\n",
    "        else:\n",
    "            print (\"you picked paper\", \"computer picked rock\", \"+1 for You!\")\n",
    "    elif player == \"paper\":\n",
    "        if computer == \"scissors\":\n",
    "            print(\"you picked paper\", \"computer picked scissors\", \"+1 for Computer!\")\n",
    "        else:\n",
    "            print (\"you picked scissors\", \"computer picked paper\", \"+1 for You!\")\n",
    "    elif player == \"scissors\":\n",
    "        if computer == \"Rock\":\n",
    "            print(\"you picked scissors\", \"computer picked rock\", \"+1 for Computer!\")\n",
    "        else:\n",
    "            print (\"you picked rock\", \"computer picked scissors\", \"+1 for You!\")\n",
    "    else:\n",
    "        print (\"please check your spelling\")\n",
    "    \n",
    "    player = \"Dom\"\n",
    "    computer = t[radint(0,2)]\n",
    "            "
   ]
  },
  {
   "cell_type": "code",
   "execution_count": null,
   "metadata": {
    "collapsed": true
   },
   "outputs": [],
   "source": [
    "from random import randint"
   ]
  },
  {
   "cell_type": "code",
   "execution_count": null,
   "metadata": {
    "collapsed": true
   },
   "outputs": [],
   "source": [
    "from random import randint\n",
    "\n",
    "t = [\"rock\",\"paper\",\"scissors\"]\n",
    "\n",
    "computer = t[randint(0,2)]\n",
    "player = \"Dom\"\n",
    "\n",
    "while player == \"Dom\":\n",
    "    player = input(\"rock,paper,scissors\")\n",
    "    if player == computer:\n",
    "        print (\"This is a tie!\")\n",
    "    elif player == \"rock\":\n",
    "        if computer == \"paper\":\n",
    "            print(\"you picked rock\", \"computer picked paper\", \"+1 for Computer!\")\n",
    "        else:\n",
    "            print (\"you picked paper\", \"computer picked rock\", \"+1 for You!\")\n",
    "    elif player == \"paper\":\n",
    "        if computer == \"scissors\":\n",
    "            print(\"you picked paper\", \"computer picked scissors\", \"+1 for Computer!\")\n",
    "        else:\n",
    "            print (\"you picked scissors\", \"computer picked paper\", \"+1 for You!\")\n",
    "    elif player == \"scissors\":\n",
    "        if computer == \"Rock\":\n",
    "            print(\"you picked scissors\", \"computer picked rock\", \"+1 for Computer!\")\n",
    "        else:\n",
    "            print (\"you picked rock\", \"computer picked scissors\", \"+1 for You!\")\n",
    "    else:\n",
    "        print (\"please check your spelling\")\n",
    "    \n",
    "    player = \"Dom\"\n",
    "    computer = t[radint(0,2)]\n",
    "            "
   ]
  },
  {
   "cell_type": "markdown",
   "metadata": {},
   "source": [
    "# *** I had the code but I'm not sure what I did wrong. "
   ]
  }
 ],
 "metadata": {
  "anaconda-cloud": {},
  "kernelspec": {
   "display_name": "Python [conda root]",
   "language": "python",
   "name": "conda-root-py"
  },
  "language_info": {
   "codemirror_mode": {
    "name": "ipython",
    "version": 3
   },
   "file_extension": ".py",
   "mimetype": "text/x-python",
   "name": "python",
   "nbconvert_exporter": "python",
   "pygments_lexer": "ipython3",
   "version": "3.5.2"
  }
 },
 "nbformat": 4,
 "nbformat_minor": 2
}
