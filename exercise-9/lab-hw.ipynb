{
 "cells": [
  {
   "cell_type": "markdown",
   "metadata": {},
   "source": [
    "a. Describe the changes in Speciation rates across the Canidae lineage. \n",
    " There was a drop in speciation rates at -30 MA from 0.3 to 0.1 then at -7 MA from 0.1 to 0.1. \n",
    "b. Describe the changes in Extinction rates across the Canidae lineage.  \n",
    "Exctinction rate was close to 0 until a major spike at -2 MA which reached to above 1.0. \n",
    "c. Describe the changes in Diversification rates across the Canidae lineage.  \n",
    "There was a slight drop in diversification at around -30 MA and then the diversification went down past 0 at around -15 MA. Diversification went above 0 at -5 MA and then a drop at -1 MA. "
   ]
  },
  {
   "cell_type": "markdown",
   "metadata": {},
   "source": [
    "Do you see anything different about these RTT plots compared to the ones you had made with only 250000 steps in the MCMC chain?  \n",
    "\n",
    "The only difference between the two RTT plots is the duration of the plot. The plots itself looks very similar with small differences in the graph. These differences consist of more data since there are more data sets available to make a graph. Overall, the two plots are similar shapped with the longer duration graph with more detailed plotted line.\n",
    "\n"
   ]
  }
 ],
 "metadata": {
  "anaconda-cloud": {},
  "kernelspec": {
   "display_name": "Python [conda root]",
   "language": "python",
   "name": "conda-root-py"
  },
  "language_info": {
   "codemirror_mode": {
    "name": "ipython",
    "version": 3
   },
   "file_extension": ".py",
   "mimetype": "text/x-python",
   "name": "python",
   "nbconvert_exporter": "python",
   "pygments_lexer": "ipython3",
   "version": "3.5.2"
  }
 },
 "nbformat": 4,
 "nbformat_minor": 2
}
