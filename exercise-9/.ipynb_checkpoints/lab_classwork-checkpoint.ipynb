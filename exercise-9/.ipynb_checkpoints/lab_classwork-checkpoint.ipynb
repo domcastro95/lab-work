{
 "cells": [
  {
   "cell_type": "markdown",
   "metadata": {},
   "source": [
    "pre-work before PyRate\n",
    "\n",
    "\n",
    "    How many fossils are included in the dataset? 2947\n",
    "    How many fossils have been identified to genus-level only? 607\n",
    "    How many to species-level? 2106\n",
    "    How many unique accepted names are part of this dataset? 8\n",
    "\n",
    "    How can we change the sampling frequency of our PyRate run? -frac_sampled_singleton\n",
    "    What does the -n flag achieve?  mcmc generations\n",
    "\n",
    "pyrate_mcmc_logs summaries \n",
    "- canid_occ_1_marginal_rates.log \n",
    " \"Tab-separated table with the posterior samples of the marginal rates of speciation, extinction, and net diversification, calculated within 1 time unit (typically Myr).\"\n",
    "- canid_occ_1_mcmc.log\n",
    " \"Tab-separated table with the MCMC samples of the posterior, prior, likelihoods of the preservation process and of the birth-death (indicated by PP_lik and BD_lik, respectively), the preservation rate (q_rate), the shape parameter of its gamma-distributed heterogeneity (alpha), the number of sampled rate shifts (k_birth, k_death), the time of origin of the oldest lineage (root_age), the total branch length (tot_length), and the times of speciation and extinction of all taxa in the data set (_TS and _TE, respectively). When using the TPP model of preservation, the preservation rates between shifts are indicated as q_0, q_1, ... q_n (from older to younger).\"\n",
    "- canid_occ_1_sum.txt\n",
    " \"Text file providing the complete list of settings used in the analysis.\""
   ]
  },
  {
   "cell_type": "code",
   "execution_count": null,
   "metadata": {
    "collapsed": true
   },
   "outputs": [],
   "source": []
  }
 ],
 "metadata": {
  "anaconda-cloud": {},
  "kernelspec": {
   "display_name": "Python [conda root]",
   "language": "python",
   "name": "conda-root-py"
  },
  "language_info": {
   "codemirror_mode": {
    "name": "ipython",
    "version": 3
   },
   "file_extension": ".py",
   "mimetype": "text/x-python",
   "name": "python",
   "nbconvert_exporter": "python",
   "pygments_lexer": "ipython3",
   "version": "3.5.2"
  }
 },
 "nbformat": 4,
 "nbformat_minor": 2
}
